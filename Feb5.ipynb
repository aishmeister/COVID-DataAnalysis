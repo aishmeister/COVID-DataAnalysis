{
  "nbformat": 4,
  "nbformat_minor": 0,
  "metadata": {
    "colab": {
      "provenance": [],
      "authorship_tag": "ABX9TyNERm8Uw36TsEozjcx7fxUS",
      "include_colab_link": true
    },
    "kernelspec": {
      "name": "python3",
      "display_name": "Python 3"
    },
    "language_info": {
      "name": "python"
    }
  },
  "cells": [
    {
      "cell_type": "markdown",
      "metadata": {
        "id": "view-in-github",
        "colab_type": "text"
      },
      "source": [
        "<a href=\"https://colab.research.google.com/github/aishmeister/COVID-DataAnalysis/blob/main/Feb5.ipynb\" target=\"_parent\"><img src=\"https://colab.research.google.com/assets/colab-badge.svg\" alt=\"Open In Colab\"/></a>"
      ]
    },
    {
      "cell_type": "markdown",
      "source": [
        "# **Feb 5th edition**"
      ],
      "metadata": {
        "id": "l55AUR-Yhggo"
      }
    },
    {
      "cell_type": "markdown",
      "source": [
        "Import packages."
      ],
      "metadata": {
        "id": "8D8QvXLH4HM9"
      }
    },
    {
      "cell_type": "code",
      "execution_count": null,
      "metadata": {
        "id": "zQ5ioAj3hbkp"
      },
      "outputs": [],
      "source": [
        "import itertools\n",
        "import pandas as pd"
      ]
    },
    {
      "cell_type": "markdown",
      "source": [
        "Defining functions.\n",
        "\n",
        "This first function `generate_combinatorial_subsets()` creates combinations and checks it against of predefined rules (in the `rule()` function). If the combination satisfies all the rules, then it appends it to a list named `subsets`.  \n",
        "\n",
        "\n"
      ],
      "metadata": {
        "id": "xuoU-Wfe4Icm"
      }
    },
    {
      "cell_type": "code",
      "source": [
        "def generate_combinatorial_subsets(items, rule):\n",
        "    subsets = []\n",
        "    n = len(items)\n",
        "    for r in range(1, n + 1):\n",
        "        for combination in itertools.combinations(items, r):\n",
        "            if rule(combination):\n",
        "                subsets.append(combination)\n",
        "                print(f\"Appending: {combination}\")  # Add this line to print before appending\n",
        "    return subsets"
      ],
      "metadata": {
        "id": "wI-wVZf8hkef"
      },
      "execution_count": null,
      "outputs": []
    },
    {
      "cell_type": "code",
      "source": [
        "def rule(combination):\n",
        "    # Return True if the combination satisfies the rules, False otherwise\n",
        "    if 5 in combination and (43 in combination or 45 in combination):\n",
        "        return False\n",
        "    elif 10 in combination and 25 not in combination:\n",
        "        return False\n",
        "    elif any(num in combination for num in [11, 13, 14, 18, 20, 23, 31, 34, 38, 39]) and not any(other_num in combination for other_num in [11, 13, 14, 18, 20, 23, 31, 34, 38, 39]):\n",
        "        return False\n",
        "    elif 15 in combination and 12 in combination:\n",
        "        return False\n",
        "    elif 16 in combination and (25 not in combination or 15 not in combination):\n",
        "        return False\n",
        "    elif 22 in combination and 12 in combination:\n",
        "        return False\n",
        "    elif 24 in combination and any(num in combination for num in [25, 20, 16]):\n",
        "        return False\n",
        "    elif 28 in combination and 25 not in combination and 26 not in combination:\n",
        "        return False\n",
        "    elif (19 in combination and 25 not in combination and 26 not in combination) or (19 in combination and 24 in combination):\n",
        "        return False\n",
        "    elif 32 in combination and (25 not in combination and 26 not in combination) or 24 in combination:\n",
        "        return False\n",
        "    elif 33 in combination and (25 not in combination and 26 not in combination) or 24 in combination:\n",
        "        return False\n",
        "    elif 35 in combination and 25 not in combination and 26 not in combination:\n",
        "        return False\n",
        "    elif 37 in combination and (25 not in combination and 26 not in combination) or 24 in combination:\n",
        "        return False\n",
        "    else:\n",
        "        #if len(combination) > 1 or all(num not in combination for num in [11, 13, 14, 18, 20, 23, 31, 34, 38, 39]):\n",
        "            #print(\"\\nThe following works:\")\n",
        "            #print(combination)\n",
        "            #return True\n",
        "        #return True\n",
        "        return len(combination) > 1 or all(num not in combination for num in [11, 13, 14, 18, 20, 23, 31, 34, 38, 39])\n",
        "\n"
      ],
      "metadata": {
        "id": "8J-OE3Uqhnx2"
      },
      "execution_count": null,
      "outputs": []
    },
    {
      "cell_type": "markdown",
      "source": [
        "We then read in a .csv file that Dr. Florkie sent me of an snippet of the AU combinations she has seen in the wild, and store it in a dataframe named `observed`."
      ],
      "metadata": {
        "id": "fL3Cp1284joH"
      }
    },
    {
      "cell_type": "code",
      "source": [
        "given_table = pd.read_csv(\"Data1.csv\")\n",
        "given_table"
      ],
      "metadata": {
        "id": "Fi18Ys4ghqe2"
      },
      "execution_count": null,
      "outputs": []
    },
    {
      "cell_type": "code",
      "source": [
        "#this is the list of AU combos that Dr. Florkie sent me.\n",
        "observed = pd.DataFrame({'given_AUs': sorted(given_table['Chimpanzees'], key=len)})\n"
      ],
      "metadata": {
        "id": "aydHSTfkJyNn"
      },
      "execution_count": null,
      "outputs": []
    },
    {
      "cell_type": "markdown",
      "source": [
        "# **Generating combinations**\n",
        "...from given `word_bank` of AUs, and rules."
      ],
      "metadata": {
        "id": "_T9p-nacO1qC"
      }
    },
    {
      "cell_type": "markdown",
      "source": [
        "Each item is an action unit (AU) that corresponds to a facial muscle movement. The `generate_combinatorial_subsets()` function calculates all the possible AU combinations that can theoretically be produced based on the set of rules given, and stores it in a list named `subsets`.  "
      ],
      "metadata": {
        "id": "DSapkZJ6496H"
      }
    },
    {
      "cell_type": "markdown",
      "source": [
        "# GENERATING"
      ],
      "metadata": {
        "id": "8yUgw-ZVOx09"
      }
    },
    {
      "cell_type": "code",
      "source": [
        "items1 = [5, 10, 11, 12, 13, 14, 15, 16, 18, 19, 20, 22, 23, 24, 25, 26, 28, 31,]\n",
        "word_bank = items1\n",
        "len(word_bank)"
      ],
      "metadata": {
        "colab": {
          "base_uri": "https://localhost:8080/"
        },
        "id": "EcbJ3nz-hvmm",
        "outputId": "e65eb8ec-be3f-481b-8fa3-107a986e08aa"
      },
      "execution_count": null,
      "outputs": [
        {
          "output_type": "execute_result",
          "data": {
            "text/plain": [
              "19"
            ]
          },
          "metadata": {},
          "execution_count": 15
        }
      ]
    },
    {
      "cell_type": "code",
      "source": [
        "#false just practicing\n",
        "items1 = [15, 16, 18, 19, 20, 22, 23, 24, 25, 26, 28, 31,]\n",
        "word_bank = items1\n",
        "len(word_bank)"
      ],
      "metadata": {
        "colab": {
          "base_uri": "https://localhost:8080/"
        },
        "id": "SPu7pcSv1o6d",
        "outputId": "d75ba0f5-0125-4597-bfaa-aaa889637073"
      },
      "execution_count": null,
      "outputs": [
        {
          "output_type": "execute_result",
          "data": {
            "text/plain": [
              "12"
            ]
          },
          "metadata": {},
          "execution_count": 164
        }
      ]
    },
    {
      "cell_type": "code",
      "source": [
        "subsets = []\n",
        "subsets = generate_combinatorial_subsets(word_bank, rule)"
      ],
      "metadata": {
        "id": "8byBEvjLkWzv"
      },
      "execution_count": null,
      "outputs": []
    },
    {
      "cell_type": "code",
      "source": [
        "print('The function has calculated that there are: ' + str(len(subsets)) + \" possible combinations\")"
      ],
      "metadata": {
        "colab": {
          "base_uri": "https://localhost:8080/"
        },
        "id": "0UdKSq2Tkd13",
        "outputId": "07f88e64-9fa0-4bd1-b901-91e22e1c8de5"
      },
      "execution_count": null,
      "outputs": [
        {
          "output_type": "stream",
          "name": "stdout",
          "text": [
            "The function has calculated that there are: 1083 possible combinations\n"
          ]
        }
      ]
    },
    {
      "cell_type": "code",
      "source": [
        "subsets[250:260]"
      ],
      "metadata": {
        "colab": {
          "base_uri": "https://localhost:8080/"
        },
        "id": "HsWQffY26q_L",
        "outputId": "8e39e9c9-798b-4c38-df97-3385c474e889"
      },
      "execution_count": null,
      "outputs": [
        {
          "output_type": "execute_result",
          "data": {
            "text/plain": [
              "[(19, 25, 26, 31),\n",
              " (19, 25, 28, 31),\n",
              " (19, 26, 28, 31),\n",
              " (20, 22, 23, 25),\n",
              " (20, 22, 23, 26),\n",
              " (20, 22, 23, 31),\n",
              " (20, 22, 25, 26),\n",
              " (20, 22, 25, 28),\n",
              " (20, 22, 25, 31),\n",
              " (20, 22, 26, 28)]"
            ]
          },
          "metadata": {},
          "execution_count": 93
        }
      ]
    },
    {
      "cell_type": "markdown",
      "source": [
        "The following snippet of code turns elements in the `subsets` list into a concatenated string.\n",
        "\n",
        "From `(15, 20, 22, 26, 28, 31`) in subsets to `'15+20+22+26+28+31'` in `concatenated_data`."
      ],
      "metadata": {
        "id": "QyE1bGSk54Ui"
      }
    },
    {
      "cell_type": "code",
      "source": [
        "concatenated_data = []\n",
        "concatenated_data = ['+'.join(map(str, row)) for row in subsets]\n"
      ],
      "metadata": {
        "id": "baQ_ty2hKc2D"
      },
      "execution_count": null,
      "outputs": []
    },
    {
      "cell_type": "code",
      "source": [
        "combos = pd.DataFrame(concatenated_data)"
      ],
      "metadata": {
        "id": "NeSLnnJQ1Hs8"
      },
      "execution_count": null,
      "outputs": []
    },
    {
      "cell_type": "markdown",
      "source": [
        "# **OK NOW COMPARING**\n",
        "Now that our possible generated combos is in a data frame named `combos`, and our list of observed AUs is in a data frame named `observed`, we can now continue to look at how many of the possible combos we have actually seen in on-field observations of Chimpanzees."
      ],
      "metadata": {
        "id": "Lq6Mq1S4kolu"
      }
    },
    {
      "cell_type": "markdown",
      "source": [
        "Checking out the structure of `observed` and `combos`:\n"
      ],
      "metadata": {
        "id": "ZOvLCplo8886"
      }
    },
    {
      "cell_type": "code",
      "source": [
        "observed.tail()"
      ],
      "metadata": {
        "colab": {
          "base_uri": "https://localhost:8080/",
          "height": 206
        },
        "id": "IqOhKFvHkyQG",
        "outputId": "f960ef26-9b10-43e1-e5e3-82a3005d0a95"
      },
      "execution_count": null,
      "outputs": [
        {
          "output_type": "execute_result",
          "data": {
            "text/plain": [
              "              given_AUs\n",
              "66    10+12+16+25+26+43\n",
              "67    10+12+16+25+27+43\n",
              "68   6+9+10+12+16+25+26\n",
              "69  6+10+12+16+25+26+43\n",
              "70  9+10+12+16+25+27+43"
            ],
            "text/html": [
              "\n",
              "  <div id=\"df-e482bad1-e28d-4959-a7b6-d06d9cb64e78\" class=\"colab-df-container\">\n",
              "    <div>\n",
              "<style scoped>\n",
              "    .dataframe tbody tr th:only-of-type {\n",
              "        vertical-align: middle;\n",
              "    }\n",
              "\n",
              "    .dataframe tbody tr th {\n",
              "        vertical-align: top;\n",
              "    }\n",
              "\n",
              "    .dataframe thead th {\n",
              "        text-align: right;\n",
              "    }\n",
              "</style>\n",
              "<table border=\"1\" class=\"dataframe\">\n",
              "  <thead>\n",
              "    <tr style=\"text-align: right;\">\n",
              "      <th></th>\n",
              "      <th>given_AUs</th>\n",
              "    </tr>\n",
              "  </thead>\n",
              "  <tbody>\n",
              "    <tr>\n",
              "      <th>66</th>\n",
              "      <td>10+12+16+25+26+43</td>\n",
              "    </tr>\n",
              "    <tr>\n",
              "      <th>67</th>\n",
              "      <td>10+12+16+25+27+43</td>\n",
              "    </tr>\n",
              "    <tr>\n",
              "      <th>68</th>\n",
              "      <td>6+9+10+12+16+25+26</td>\n",
              "    </tr>\n",
              "    <tr>\n",
              "      <th>69</th>\n",
              "      <td>6+10+12+16+25+26+43</td>\n",
              "    </tr>\n",
              "    <tr>\n",
              "      <th>70</th>\n",
              "      <td>9+10+12+16+25+27+43</td>\n",
              "    </tr>\n",
              "  </tbody>\n",
              "</table>\n",
              "</div>\n",
              "    <div class=\"colab-df-buttons\">\n",
              "\n",
              "  <div class=\"colab-df-container\">\n",
              "    <button class=\"colab-df-convert\" onclick=\"convertToInteractive('df-e482bad1-e28d-4959-a7b6-d06d9cb64e78')\"\n",
              "            title=\"Convert this dataframe to an interactive table.\"\n",
              "            style=\"display:none;\">\n",
              "\n",
              "  <svg xmlns=\"http://www.w3.org/2000/svg\" height=\"24px\" viewBox=\"0 -960 960 960\">\n",
              "    <path d=\"M120-120v-720h720v720H120Zm60-500h600v-160H180v160Zm220 220h160v-160H400v160Zm0 220h160v-160H400v160ZM180-400h160v-160H180v160Zm440 0h160v-160H620v160ZM180-180h160v-160H180v160Zm440 0h160v-160H620v160Z\"/>\n",
              "  </svg>\n",
              "    </button>\n",
              "\n",
              "  <style>\n",
              "    .colab-df-container {\n",
              "      display:flex;\n",
              "      gap: 12px;\n",
              "    }\n",
              "\n",
              "    .colab-df-convert {\n",
              "      background-color: #E8F0FE;\n",
              "      border: none;\n",
              "      border-radius: 50%;\n",
              "      cursor: pointer;\n",
              "      display: none;\n",
              "      fill: #1967D2;\n",
              "      height: 32px;\n",
              "      padding: 0 0 0 0;\n",
              "      width: 32px;\n",
              "    }\n",
              "\n",
              "    .colab-df-convert:hover {\n",
              "      background-color: #E2EBFA;\n",
              "      box-shadow: 0px 1px 2px rgba(60, 64, 67, 0.3), 0px 1px 3px 1px rgba(60, 64, 67, 0.15);\n",
              "      fill: #174EA6;\n",
              "    }\n",
              "\n",
              "    .colab-df-buttons div {\n",
              "      margin-bottom: 4px;\n",
              "    }\n",
              "\n",
              "    [theme=dark] .colab-df-convert {\n",
              "      background-color: #3B4455;\n",
              "      fill: #D2E3FC;\n",
              "    }\n",
              "\n",
              "    [theme=dark] .colab-df-convert:hover {\n",
              "      background-color: #434B5C;\n",
              "      box-shadow: 0px 1px 3px 1px rgba(0, 0, 0, 0.15);\n",
              "      filter: drop-shadow(0px 1px 2px rgba(0, 0, 0, 0.3));\n",
              "      fill: #FFFFFF;\n",
              "    }\n",
              "  </style>\n",
              "\n",
              "    <script>\n",
              "      const buttonEl =\n",
              "        document.querySelector('#df-e482bad1-e28d-4959-a7b6-d06d9cb64e78 button.colab-df-convert');\n",
              "      buttonEl.style.display =\n",
              "        google.colab.kernel.accessAllowed ? 'block' : 'none';\n",
              "\n",
              "      async function convertToInteractive(key) {\n",
              "        const element = document.querySelector('#df-e482bad1-e28d-4959-a7b6-d06d9cb64e78');\n",
              "        const dataTable =\n",
              "          await google.colab.kernel.invokeFunction('convertToInteractive',\n",
              "                                                    [key], {});\n",
              "        if (!dataTable) return;\n",
              "\n",
              "        const docLinkHtml = 'Like what you see? Visit the ' +\n",
              "          '<a target=\"_blank\" href=https://colab.research.google.com/notebooks/data_table.ipynb>data table notebook</a>'\n",
              "          + ' to learn more about interactive tables.';\n",
              "        element.innerHTML = '';\n",
              "        dataTable['output_type'] = 'display_data';\n",
              "        await google.colab.output.renderOutput(dataTable, element);\n",
              "        const docLink = document.createElement('div');\n",
              "        docLink.innerHTML = docLinkHtml;\n",
              "        element.appendChild(docLink);\n",
              "      }\n",
              "    </script>\n",
              "  </div>\n",
              "\n",
              "\n",
              "<div id=\"df-9ec6ac37-cc0b-4d23-91ec-e134c767a0fe\">\n",
              "  <button class=\"colab-df-quickchart\" onclick=\"quickchart('df-9ec6ac37-cc0b-4d23-91ec-e134c767a0fe')\"\n",
              "            title=\"Suggest charts\"\n",
              "            style=\"display:none;\">\n",
              "\n",
              "<svg xmlns=\"http://www.w3.org/2000/svg\" height=\"24px\"viewBox=\"0 0 24 24\"\n",
              "     width=\"24px\">\n",
              "    <g>\n",
              "        <path d=\"M19 3H5c-1.1 0-2 .9-2 2v14c0 1.1.9 2 2 2h14c1.1 0 2-.9 2-2V5c0-1.1-.9-2-2-2zM9 17H7v-7h2v7zm4 0h-2V7h2v10zm4 0h-2v-4h2v4z\"/>\n",
              "    </g>\n",
              "</svg>\n",
              "  </button>\n",
              "\n",
              "<style>\n",
              "  .colab-df-quickchart {\n",
              "      --bg-color: #E8F0FE;\n",
              "      --fill-color: #1967D2;\n",
              "      --hover-bg-color: #E2EBFA;\n",
              "      --hover-fill-color: #174EA6;\n",
              "      --disabled-fill-color: #AAA;\n",
              "      --disabled-bg-color: #DDD;\n",
              "  }\n",
              "\n",
              "  [theme=dark] .colab-df-quickchart {\n",
              "      --bg-color: #3B4455;\n",
              "      --fill-color: #D2E3FC;\n",
              "      --hover-bg-color: #434B5C;\n",
              "      --hover-fill-color: #FFFFFF;\n",
              "      --disabled-bg-color: #3B4455;\n",
              "      --disabled-fill-color: #666;\n",
              "  }\n",
              "\n",
              "  .colab-df-quickchart {\n",
              "    background-color: var(--bg-color);\n",
              "    border: none;\n",
              "    border-radius: 50%;\n",
              "    cursor: pointer;\n",
              "    display: none;\n",
              "    fill: var(--fill-color);\n",
              "    height: 32px;\n",
              "    padding: 0;\n",
              "    width: 32px;\n",
              "  }\n",
              "\n",
              "  .colab-df-quickchart:hover {\n",
              "    background-color: var(--hover-bg-color);\n",
              "    box-shadow: 0 1px 2px rgba(60, 64, 67, 0.3), 0 1px 3px 1px rgba(60, 64, 67, 0.15);\n",
              "    fill: var(--button-hover-fill-color);\n",
              "  }\n",
              "\n",
              "  .colab-df-quickchart-complete:disabled,\n",
              "  .colab-df-quickchart-complete:disabled:hover {\n",
              "    background-color: var(--disabled-bg-color);\n",
              "    fill: var(--disabled-fill-color);\n",
              "    box-shadow: none;\n",
              "  }\n",
              "\n",
              "  .colab-df-spinner {\n",
              "    border: 2px solid var(--fill-color);\n",
              "    border-color: transparent;\n",
              "    border-bottom-color: var(--fill-color);\n",
              "    animation:\n",
              "      spin 1s steps(1) infinite;\n",
              "  }\n",
              "\n",
              "  @keyframes spin {\n",
              "    0% {\n",
              "      border-color: transparent;\n",
              "      border-bottom-color: var(--fill-color);\n",
              "      border-left-color: var(--fill-color);\n",
              "    }\n",
              "    20% {\n",
              "      border-color: transparent;\n",
              "      border-left-color: var(--fill-color);\n",
              "      border-top-color: var(--fill-color);\n",
              "    }\n",
              "    30% {\n",
              "      border-color: transparent;\n",
              "      border-left-color: var(--fill-color);\n",
              "      border-top-color: var(--fill-color);\n",
              "      border-right-color: var(--fill-color);\n",
              "    }\n",
              "    40% {\n",
              "      border-color: transparent;\n",
              "      border-right-color: var(--fill-color);\n",
              "      border-top-color: var(--fill-color);\n",
              "    }\n",
              "    60% {\n",
              "      border-color: transparent;\n",
              "      border-right-color: var(--fill-color);\n",
              "    }\n",
              "    80% {\n",
              "      border-color: transparent;\n",
              "      border-right-color: var(--fill-color);\n",
              "      border-bottom-color: var(--fill-color);\n",
              "    }\n",
              "    90% {\n",
              "      border-color: transparent;\n",
              "      border-bottom-color: var(--fill-color);\n",
              "    }\n",
              "  }\n",
              "</style>\n",
              "\n",
              "  <script>\n",
              "    async function quickchart(key) {\n",
              "      const quickchartButtonEl =\n",
              "        document.querySelector('#' + key + ' button');\n",
              "      quickchartButtonEl.disabled = true;  // To prevent multiple clicks.\n",
              "      quickchartButtonEl.classList.add('colab-df-spinner');\n",
              "      try {\n",
              "        const charts = await google.colab.kernel.invokeFunction(\n",
              "            'suggestCharts', [key], {});\n",
              "      } catch (error) {\n",
              "        console.error('Error during call to suggestCharts:', error);\n",
              "      }\n",
              "      quickchartButtonEl.classList.remove('colab-df-spinner');\n",
              "      quickchartButtonEl.classList.add('colab-df-quickchart-complete');\n",
              "    }\n",
              "    (() => {\n",
              "      let quickchartButtonEl =\n",
              "        document.querySelector('#df-9ec6ac37-cc0b-4d23-91ec-e134c767a0fe button');\n",
              "      quickchartButtonEl.style.display =\n",
              "        google.colab.kernel.accessAllowed ? 'block' : 'none';\n",
              "    })();\n",
              "  </script>\n",
              "</div>\n",
              "\n",
              "    </div>\n",
              "  </div>\n"
            ]
          },
          "metadata": {},
          "execution_count": 168
        }
      ]
    },
    {
      "cell_type": "code",
      "source": [
        "combos.tail()"
      ],
      "metadata": {
        "colab": {
          "base_uri": "https://localhost:8080/",
          "height": 206
        },
        "id": "5IeBZu9477-X",
        "outputId": "e51f532a-7827-4705-b5f7-960fc7e8f564"
      },
      "execution_count": null,
      "outputs": [
        {
          "output_type": "execute_result",
          "data": {
            "text/plain": [
              "                                     0\n",
              "1078     15+16+18+19+22+23+25+26+28+31\n",
              "1079     15+16+18+20+22+23+25+26+28+31\n",
              "1080     15+16+19+20+22+23+25+26+28+31\n",
              "1081     15+18+19+20+22+23+25+26+28+31\n",
              "1082  15+16+18+19+20+22+23+25+26+28+31"
            ],
            "text/html": [
              "\n",
              "  <div id=\"df-ab519f85-22ab-42a8-8f32-6ea3f3120ebb\" class=\"colab-df-container\">\n",
              "    <div>\n",
              "<style scoped>\n",
              "    .dataframe tbody tr th:only-of-type {\n",
              "        vertical-align: middle;\n",
              "    }\n",
              "\n",
              "    .dataframe tbody tr th {\n",
              "        vertical-align: top;\n",
              "    }\n",
              "\n",
              "    .dataframe thead th {\n",
              "        text-align: right;\n",
              "    }\n",
              "</style>\n",
              "<table border=\"1\" class=\"dataframe\">\n",
              "  <thead>\n",
              "    <tr style=\"text-align: right;\">\n",
              "      <th></th>\n",
              "      <th>0</th>\n",
              "    </tr>\n",
              "  </thead>\n",
              "  <tbody>\n",
              "    <tr>\n",
              "      <th>1078</th>\n",
              "      <td>15+16+18+19+22+23+25+26+28+31</td>\n",
              "    </tr>\n",
              "    <tr>\n",
              "      <th>1079</th>\n",
              "      <td>15+16+18+20+22+23+25+26+28+31</td>\n",
              "    </tr>\n",
              "    <tr>\n",
              "      <th>1080</th>\n",
              "      <td>15+16+19+20+22+23+25+26+28+31</td>\n",
              "    </tr>\n",
              "    <tr>\n",
              "      <th>1081</th>\n",
              "      <td>15+18+19+20+22+23+25+26+28+31</td>\n",
              "    </tr>\n",
              "    <tr>\n",
              "      <th>1082</th>\n",
              "      <td>15+16+18+19+20+22+23+25+26+28+31</td>\n",
              "    </tr>\n",
              "  </tbody>\n",
              "</table>\n",
              "</div>\n",
              "    <div class=\"colab-df-buttons\">\n",
              "\n",
              "  <div class=\"colab-df-container\">\n",
              "    <button class=\"colab-df-convert\" onclick=\"convertToInteractive('df-ab519f85-22ab-42a8-8f32-6ea3f3120ebb')\"\n",
              "            title=\"Convert this dataframe to an interactive table.\"\n",
              "            style=\"display:none;\">\n",
              "\n",
              "  <svg xmlns=\"http://www.w3.org/2000/svg\" height=\"24px\" viewBox=\"0 -960 960 960\">\n",
              "    <path d=\"M120-120v-720h720v720H120Zm60-500h600v-160H180v160Zm220 220h160v-160H400v160Zm0 220h160v-160H400v160ZM180-400h160v-160H180v160Zm440 0h160v-160H620v160ZM180-180h160v-160H180v160Zm440 0h160v-160H620v160Z\"/>\n",
              "  </svg>\n",
              "    </button>\n",
              "\n",
              "  <style>\n",
              "    .colab-df-container {\n",
              "      display:flex;\n",
              "      gap: 12px;\n",
              "    }\n",
              "\n",
              "    .colab-df-convert {\n",
              "      background-color: #E8F0FE;\n",
              "      border: none;\n",
              "      border-radius: 50%;\n",
              "      cursor: pointer;\n",
              "      display: none;\n",
              "      fill: #1967D2;\n",
              "      height: 32px;\n",
              "      padding: 0 0 0 0;\n",
              "      width: 32px;\n",
              "    }\n",
              "\n",
              "    .colab-df-convert:hover {\n",
              "      background-color: #E2EBFA;\n",
              "      box-shadow: 0px 1px 2px rgba(60, 64, 67, 0.3), 0px 1px 3px 1px rgba(60, 64, 67, 0.15);\n",
              "      fill: #174EA6;\n",
              "    }\n",
              "\n",
              "    .colab-df-buttons div {\n",
              "      margin-bottom: 4px;\n",
              "    }\n",
              "\n",
              "    [theme=dark] .colab-df-convert {\n",
              "      background-color: #3B4455;\n",
              "      fill: #D2E3FC;\n",
              "    }\n",
              "\n",
              "    [theme=dark] .colab-df-convert:hover {\n",
              "      background-color: #434B5C;\n",
              "      box-shadow: 0px 1px 3px 1px rgba(0, 0, 0, 0.15);\n",
              "      filter: drop-shadow(0px 1px 2px rgba(0, 0, 0, 0.3));\n",
              "      fill: #FFFFFF;\n",
              "    }\n",
              "  </style>\n",
              "\n",
              "    <script>\n",
              "      const buttonEl =\n",
              "        document.querySelector('#df-ab519f85-22ab-42a8-8f32-6ea3f3120ebb button.colab-df-convert');\n",
              "      buttonEl.style.display =\n",
              "        google.colab.kernel.accessAllowed ? 'block' : 'none';\n",
              "\n",
              "      async function convertToInteractive(key) {\n",
              "        const element = document.querySelector('#df-ab519f85-22ab-42a8-8f32-6ea3f3120ebb');\n",
              "        const dataTable =\n",
              "          await google.colab.kernel.invokeFunction('convertToInteractive',\n",
              "                                                    [key], {});\n",
              "        if (!dataTable) return;\n",
              "\n",
              "        const docLinkHtml = 'Like what you see? Visit the ' +\n",
              "          '<a target=\"_blank\" href=https://colab.research.google.com/notebooks/data_table.ipynb>data table notebook</a>'\n",
              "          + ' to learn more about interactive tables.';\n",
              "        element.innerHTML = '';\n",
              "        dataTable['output_type'] = 'display_data';\n",
              "        await google.colab.output.renderOutput(dataTable, element);\n",
              "        const docLink = document.createElement('div');\n",
              "        docLink.innerHTML = docLinkHtml;\n",
              "        element.appendChild(docLink);\n",
              "      }\n",
              "    </script>\n",
              "  </div>\n",
              "\n",
              "\n",
              "<div id=\"df-10bf02f7-75cb-46af-9924-fba37b252178\">\n",
              "  <button class=\"colab-df-quickchart\" onclick=\"quickchart('df-10bf02f7-75cb-46af-9924-fba37b252178')\"\n",
              "            title=\"Suggest charts\"\n",
              "            style=\"display:none;\">\n",
              "\n",
              "<svg xmlns=\"http://www.w3.org/2000/svg\" height=\"24px\"viewBox=\"0 0 24 24\"\n",
              "     width=\"24px\">\n",
              "    <g>\n",
              "        <path d=\"M19 3H5c-1.1 0-2 .9-2 2v14c0 1.1.9 2 2 2h14c1.1 0 2-.9 2-2V5c0-1.1-.9-2-2-2zM9 17H7v-7h2v7zm4 0h-2V7h2v10zm4 0h-2v-4h2v4z\"/>\n",
              "    </g>\n",
              "</svg>\n",
              "  </button>\n",
              "\n",
              "<style>\n",
              "  .colab-df-quickchart {\n",
              "      --bg-color: #E8F0FE;\n",
              "      --fill-color: #1967D2;\n",
              "      --hover-bg-color: #E2EBFA;\n",
              "      --hover-fill-color: #174EA6;\n",
              "      --disabled-fill-color: #AAA;\n",
              "      --disabled-bg-color: #DDD;\n",
              "  }\n",
              "\n",
              "  [theme=dark] .colab-df-quickchart {\n",
              "      --bg-color: #3B4455;\n",
              "      --fill-color: #D2E3FC;\n",
              "      --hover-bg-color: #434B5C;\n",
              "      --hover-fill-color: #FFFFFF;\n",
              "      --disabled-bg-color: #3B4455;\n",
              "      --disabled-fill-color: #666;\n",
              "  }\n",
              "\n",
              "  .colab-df-quickchart {\n",
              "    background-color: var(--bg-color);\n",
              "    border: none;\n",
              "    border-radius: 50%;\n",
              "    cursor: pointer;\n",
              "    display: none;\n",
              "    fill: var(--fill-color);\n",
              "    height: 32px;\n",
              "    padding: 0;\n",
              "    width: 32px;\n",
              "  }\n",
              "\n",
              "  .colab-df-quickchart:hover {\n",
              "    background-color: var(--hover-bg-color);\n",
              "    box-shadow: 0 1px 2px rgba(60, 64, 67, 0.3), 0 1px 3px 1px rgba(60, 64, 67, 0.15);\n",
              "    fill: var(--button-hover-fill-color);\n",
              "  }\n",
              "\n",
              "  .colab-df-quickchart-complete:disabled,\n",
              "  .colab-df-quickchart-complete:disabled:hover {\n",
              "    background-color: var(--disabled-bg-color);\n",
              "    fill: var(--disabled-fill-color);\n",
              "    box-shadow: none;\n",
              "  }\n",
              "\n",
              "  .colab-df-spinner {\n",
              "    border: 2px solid var(--fill-color);\n",
              "    border-color: transparent;\n",
              "    border-bottom-color: var(--fill-color);\n",
              "    animation:\n",
              "      spin 1s steps(1) infinite;\n",
              "  }\n",
              "\n",
              "  @keyframes spin {\n",
              "    0% {\n",
              "      border-color: transparent;\n",
              "      border-bottom-color: var(--fill-color);\n",
              "      border-left-color: var(--fill-color);\n",
              "    }\n",
              "    20% {\n",
              "      border-color: transparent;\n",
              "      border-left-color: var(--fill-color);\n",
              "      border-top-color: var(--fill-color);\n",
              "    }\n",
              "    30% {\n",
              "      border-color: transparent;\n",
              "      border-left-color: var(--fill-color);\n",
              "      border-top-color: var(--fill-color);\n",
              "      border-right-color: var(--fill-color);\n",
              "    }\n",
              "    40% {\n",
              "      border-color: transparent;\n",
              "      border-right-color: var(--fill-color);\n",
              "      border-top-color: var(--fill-color);\n",
              "    }\n",
              "    60% {\n",
              "      border-color: transparent;\n",
              "      border-right-color: var(--fill-color);\n",
              "    }\n",
              "    80% {\n",
              "      border-color: transparent;\n",
              "      border-right-color: var(--fill-color);\n",
              "      border-bottom-color: var(--fill-color);\n",
              "    }\n",
              "    90% {\n",
              "      border-color: transparent;\n",
              "      border-bottom-color: var(--fill-color);\n",
              "    }\n",
              "  }\n",
              "</style>\n",
              "\n",
              "  <script>\n",
              "    async function quickchart(key) {\n",
              "      const quickchartButtonEl =\n",
              "        document.querySelector('#' + key + ' button');\n",
              "      quickchartButtonEl.disabled = true;  // To prevent multiple clicks.\n",
              "      quickchartButtonEl.classList.add('colab-df-spinner');\n",
              "      try {\n",
              "        const charts = await google.colab.kernel.invokeFunction(\n",
              "            'suggestCharts', [key], {});\n",
              "      } catch (error) {\n",
              "        console.error('Error during call to suggestCharts:', error);\n",
              "      }\n",
              "      quickchartButtonEl.classList.remove('colab-df-spinner');\n",
              "      quickchartButtonEl.classList.add('colab-df-quickchart-complete');\n",
              "    }\n",
              "    (() => {\n",
              "      let quickchartButtonEl =\n",
              "        document.querySelector('#df-10bf02f7-75cb-46af-9924-fba37b252178 button');\n",
              "      quickchartButtonEl.style.display =\n",
              "        google.colab.kernel.accessAllowed ? 'block' : 'none';\n",
              "    })();\n",
              "  </script>\n",
              "</div>\n",
              "\n",
              "    </div>\n",
              "  </div>\n"
            ]
          },
          "metadata": {},
          "execution_count": 169
        }
      ]
    },
    {
      "cell_type": "markdown",
      "source": [
        "The following block of code checks if a generated combo has been observed in the wild on Chimpanzees or not. After checking equivalence, we break from the `if` check becuase there is no need to check a certain combo with all the rest of the combos when its match has already been found.  "
      ],
      "metadata": {
        "id": "cevY6CTs9QDT"
      }
    },
    {
      "cell_type": "code",
      "source": [
        "unseen = []\n",
        "seen = []\n",
        "\n",
        "# comparing and dividing into list of seen and unseen AUs\n",
        "for x in combos[0]:\n",
        "    match_found = False\n",
        "    for y in observed[\"given_AUs\"]:\n",
        "        if x == y:\n",
        "            print(\"\\nPossible combo: \" + str(x) + \" is present in the list of observed AUS (aka we've seen it in the wild). A match with: \", str(y))\n",
        "            seen.append(x)\n",
        "            match_found = True\n",
        "            break  # No need to continue checking once a match is found\n",
        "\n",
        "    if not match_found:\n",
        "        #print(\"Possible combo: \" + str(x) + \" does NOT match \" + str(y) +\" is possible but NOT been seen in the wild.\")\n",
        "        unseen.append(x)\n"
      ],
      "metadata": {
        "colab": {
          "base_uri": "https://localhost:8080/"
        },
        "id": "H1FHPXVolL73",
        "outputId": "7f53f3cc-9c7d-4752-f76a-b7e19d965fbf"
      },
      "execution_count": null,
      "outputs": [
        {
          "output_type": "stream",
          "name": "stdout",
          "text": [
            "\n",
            "Possible combo: 22 is present in the list of observed AUS (aka we've seen it in the wild). A match with:  22\n",
            "\n",
            "Possible combo: 22+25 is present in the list of observed AUS (aka we've seen it in the wild). A match with:  22+25\n",
            "\n",
            "Possible combo: 25+26 is present in the list of observed AUS (aka we've seen it in the wild). A match with:  25+26\n",
            "\n",
            "Possible combo: 19+25+26 is present in the list of observed AUS (aka we've seen it in the wild). A match with:  19+25+26\n",
            "\n",
            "Possible combo: 22+25+26 is present in the list of observed AUS (aka we've seen it in the wild). A match with:  22+25+26\n",
            "\n",
            "Possible combo: 19+22+25+26 is present in the list of observed AUS (aka we've seen it in the wild). A match with:  19+22+25+26\n"
          ]
        }
      ]
    },
    {
      "cell_type": "code",
      "source": [
        "print(\"length of total generated subsets (combos): \" + str(len(combos)))\n",
        "print(\"length of observed combos: \" + str(len(observed)))\n",
        "print(\"\\nunseen: \" + str(len(unseen)))\n",
        "print(\"seen: \" + str(len(seen)))"
      ],
      "metadata": {
        "colab": {
          "base_uri": "https://localhost:8080/"
        },
        "id": "7d3-8ZDc1kDH",
        "outputId": "7f737ed3-08ca-4f31-c214-9178e1cfbd6f"
      },
      "execution_count": null,
      "outputs": [
        {
          "output_type": "stream",
          "name": "stdout",
          "text": [
            "length of total generated subsets (combos): 1083\n",
            "length of observed combos: 71\n",
            "\n",
            "unseen: 1077\n",
            "seen: 6\n"
          ]
        }
      ]
    },
    {
      "cell_type": "code",
      "source": [
        "print(\"Percentage of seen combos out of all possible combos: \" + str(round(len(seen) / len(combos) * 100, 2)) + \"%\")\n",
        "print(\"(This is \" + str(len(seen)) +\" out of \" + str(len(combos)) + \")\")\n",
        "\n",
        "print(\"\\nThe first 5 combos seen are: \")\n",
        "print(seen[0:5])\n",
        "\n",
        "print(\"\\nThe first 5 combos not seen are: \")\n",
        "print(unseen[0:5])\n"
      ],
      "metadata": {
        "colab": {
          "base_uri": "https://localhost:8080/"
        },
        "id": "StZCJv65-a9t",
        "outputId": "7b1c00eb-de8a-4a78-acbf-0d92e7e28b28"
      },
      "execution_count": null,
      "outputs": [
        {
          "output_type": "stream",
          "name": "stdout",
          "text": [
            "Percentage of seen combos out of all possible combos: 0.55%\n",
            "(This is 6 out of 1083)\n",
            "\n",
            "The first 5 combos seen are: \n",
            "['22', '22+25', '25+26', '19+25+26', '22+25+26']\n",
            "\n",
            "The first 5 combos not seen are: \n",
            "['15', '25', '26', '15+18', '15+20']\n"
          ]
        }
      ]
    },
    {
      "cell_type": "markdown",
      "source": [
        "# **PART 2 - Databases! :)**\n",
        "I will upload generated subsets (`combos`), observed AUs (`observed`), `seen`, and `unseen` into separate sqlite3 databases so we can query them.  "
      ],
      "metadata": {
        "id": "UJE4VGBhFekJ"
      }
    },
    {
      "cell_type": "code",
      "source": [
        "import sqlite3"
      ],
      "metadata": {
        "id": "y8Rpp9sCOWfU"
      },
      "execution_count": null,
      "outputs": []
    },
    {
      "cell_type": "markdown",
      "source": [
        "**COMBOS database**"
      ],
      "metadata": {
        "id": "AejKKOmDOfGs"
      }
    },
    {
      "cell_type": "code",
      "source": [
        "db_name = 'generated_combos.db'\n",
        "conn = sqlite3.connect(db_name)\n",
        "\n",
        "table_name = 'all_possible_subsets'\n",
        "combos.to_sql(table_name, conn, index=False, if_exists='replace')\n",
        "\n",
        "query = \"SELECT * FROM all_possible_subsets\"\n",
        "possibles = pd.read_sql_query(query, conn)\n",
        "print(possibles)"
      ],
      "metadata": {
        "colab": {
          "base_uri": "https://localhost:8080/"
        },
        "id": "XiNLQlRPLNGY",
        "outputId": "cec69c3e-4c44-4395-d50a-3cd2bdb947a1"
      },
      "execution_count": null,
      "outputs": [
        {
          "output_type": "stream",
          "name": "stdout",
          "text": [
            "                                     0\n",
            "0                                   15\n",
            "1                                   22\n",
            "2                                   25\n",
            "3                                   26\n",
            "4                                15+18\n",
            "...                                ...\n",
            "1078     15+16+18+19+22+23+25+26+28+31\n",
            "1079     15+16+18+20+22+23+25+26+28+31\n",
            "1080     15+16+19+20+22+23+25+26+28+31\n",
            "1081     15+18+19+20+22+23+25+26+28+31\n",
            "1082  15+16+18+19+20+22+23+25+26+28+31\n",
            "\n",
            "[1083 rows x 1 columns]\n"
          ]
        }
      ]
    },
    {
      "cell_type": "markdown",
      "source": [
        "Export to excel:"
      ],
      "metadata": {
        "id": "iTgvc1kLLffx"
      }
    },
    {
      "cell_type": "code",
      "source": [
        "#excel_filename = 'output_data.xlsx'\n",
        "#possibles.to_excel(excel_filename, index=False)"
      ],
      "metadata": {
        "id": "dicSJUGULgkY"
      },
      "execution_count": null,
      "outputs": []
    },
    {
      "cell_type": "markdown",
      "source": [
        "**OBSERVED AU database** (our data)"
      ],
      "metadata": {
        "id": "DiMy09LSLpag"
      }
    },
    {
      "cell_type": "code",
      "source": [
        "db_name = 'observed_data.db'\n",
        "conn = sqlite3.connect(db_name)\n",
        "\n",
        "table_name = 'observed_AUs'\n",
        "observed.to_sql(table_name, conn, index=False, if_exists='replace')\n",
        "\n",
        "query = \"SELECT * FROM observed_AUs\"\n",
        "observeds = pd.read_sql_query(query, conn)\n",
        "print(observeds)"
      ],
      "metadata": {
        "colab": {
          "base_uri": "https://localhost:8080/"
        },
        "id": "QjrBN5QrM-kl",
        "outputId": "4955098c-af9b-49a7-9c45-5043b1f36f8d"
      },
      "execution_count": null,
      "outputs": [
        {
          "output_type": "stream",
          "name": "stdout",
          "text": [
            "              given_AUs\n",
            "0                    17\n",
            "1                    22\n",
            "2                 17+24\n",
            "3                 17+25\n",
            "4                 17+34\n",
            "..                  ...\n",
            "66    10+12+16+25+26+43\n",
            "67    10+12+16+25+27+43\n",
            "68   6+9+10+12+16+25+26\n",
            "69  6+10+12+16+25+26+43\n",
            "70  9+10+12+16+25+27+43\n",
            "\n",
            "[71 rows x 1 columns]\n"
          ]
        }
      ]
    },
    {
      "cell_type": "markdown",
      "source": [
        "**SEEN database**"
      ],
      "metadata": {
        "id": "eB14PRF9NV-N"
      }
    },
    {
      "cell_type": "code",
      "source": [
        "seen_df = pd.DataFrame(seen)"
      ],
      "metadata": {
        "id": "bswbfps3NyJz"
      },
      "execution_count": null,
      "outputs": []
    },
    {
      "cell_type": "code",
      "source": [
        "db_name = 'seen_combos.db'\n",
        "conn = sqlite3.connect(db_name)\n",
        "\n",
        "table_name = 'seen'\n",
        "seen_df.to_sql(table_name, conn, index=False, if_exists='replace')\n",
        "\n",
        "query = \"SELECT * FROM seen\"\n",
        "seen_sql = pd.read_sql_query(query, conn)\n",
        "print(seen_sql)"
      ],
      "metadata": {
        "colab": {
          "base_uri": "https://localhost:8080/"
        },
        "id": "2JTPyRGQNZFE",
        "outputId": "e30f1a1c-5f09-45cb-d977-56b3a22117ac"
      },
      "execution_count": null,
      "outputs": [
        {
          "output_type": "stream",
          "name": "stdout",
          "text": [
            "             0\n",
            "0           22\n",
            "1        22+25\n",
            "2        25+26\n",
            "3     19+25+26\n",
            "4     22+25+26\n",
            "5  19+22+25+26\n"
          ]
        }
      ]
    },
    {
      "cell_type": "markdown",
      "source": [
        "**UNSEEN database**"
      ],
      "metadata": {
        "id": "SeYam9zhOAUk"
      }
    },
    {
      "cell_type": "code",
      "source": [
        "unseen_df = pd.DataFrame(unseen)\n"
      ],
      "metadata": {
        "id": "cIHRz4O7OB9F"
      },
      "execution_count": null,
      "outputs": []
    },
    {
      "cell_type": "code",
      "source": [
        "db_name = 'unseen_combos.db'\n",
        "conn = sqlite3.connect(db_name)\n",
        "\n",
        "table_name = 'unseen'\n",
        "unseen_df.to_sql(table_name, conn, index=False, if_exists='replace')\n",
        "\n",
        "query = \"SELECT * FROM unseen\"\n",
        "unseen_sql = pd.read_sql_query(query, conn)\n",
        "print(unseen_sql)"
      ],
      "metadata": {
        "colab": {
          "base_uri": "https://localhost:8080/"
        },
        "id": "31GaxuLrOIC9",
        "outputId": "ee90a960-4fcb-4e8a-9c75-f0a47fc17d8b"
      },
      "execution_count": null,
      "outputs": [
        {
          "output_type": "stream",
          "name": "stdout",
          "text": [
            "                                     0\n",
            "0                                   15\n",
            "1                                   25\n",
            "2                                   26\n",
            "3                                15+18\n",
            "4                                15+20\n",
            "...                                ...\n",
            "1072     15+16+18+19+22+23+25+26+28+31\n",
            "1073     15+16+18+20+22+23+25+26+28+31\n",
            "1074     15+16+19+20+22+23+25+26+28+31\n",
            "1075     15+18+19+20+22+23+25+26+28+31\n",
            "1076  15+16+18+19+20+22+23+25+26+28+31\n",
            "\n",
            "[1077 rows x 1 columns]\n"
          ]
        }
      ]
    }
  ]
}